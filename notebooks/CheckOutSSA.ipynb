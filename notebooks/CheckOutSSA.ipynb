{
 "cells": [
  {
   "cell_type": "code",
   "execution_count": null,
   "metadata": {},
   "outputs": [],
   "source": [
    "from read_CT_txt_files import read_CT_txt_files\n",
    "import matplotlib.pyplot as plt\n",
    "\n",
    "site='2S16'\n",
    "\n",
    "data_dir='../data/microCT/' + site + '/' \n",
    "\n",
    "[SSA_CT,height_min,height_max]=read_CT_txt_files(data_dir)\n",
    "\n",
    "fig,ax = plt.subplots()\n",
    "ax.plot(6/917/SSA_CT*1000,height_min,label='microCT')        #CT data\n",
    "ax.set_xlabel('Equivalent diameter, mm')\n",
    "ax.set_ylabel('Height above snow-soil interface [cm]')\n",
    "\n",
    "ax.set_title(f'Site {site.upper()}')\n",
    "plt.show()"
   ]
  },
  {
   "cell_type": "code",
   "execution_count": null,
   "metadata": {},
   "outputs": [],
   "source": []
  },
  {
   "cell_type": "code",
   "execution_count": null,
   "metadata": {},
   "outputs": [],
   "source": []
  }
 ],
 "metadata": {
  "kernelspec": {
   "display_name": "Python 3",
   "language": "python",
   "name": "python3"
  },
  "language_info": {
   "codemirror_mode": {
    "name": "ipython",
    "version": 3
   },
   "file_extension": ".py",
   "mimetype": "text/x-python",
   "name": "python",
   "nbconvert_exporter": "python",
   "pygments_lexer": "ipython3",
   "version": "3.7.10"
  }
 },
 "nbformat": 4,
 "nbformat_minor": 4
}
