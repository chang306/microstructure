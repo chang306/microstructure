{
 "cells": [
  {
   "cell_type": "markdown",
   "id": "bfa8e119",
   "metadata": {},
   "source": [
    "# Pits, SMP, and SSA Oh My \n",
    "\n",
    "The notebook attempts to use the database to find all the SMP profiles associated with Pits where SSA was also measured "
   ]
  },
  {
   "cell_type": "code",
   "execution_count": 1,
   "id": "dac7fc4f",
   "metadata": {},
   "outputs": [],
   "source": [
    "# Import the function to get connect to the db\n",
    "from snowexsql.db import get_db\n",
    "from snowexsql.data import LayerData\n",
    "from snowexsql.conversions import query_to_pandas, query_to_geopandas\n",
    "from datetime import date \n",
    "\n",
    "# This is what you will use for all of hackweek to access the db\n",
    "db_name = 'snow:hackweek@52.32.183.144/snowex'\n",
    "\n",
    "# Using the function get_db, we receive 2 ways to interact with the database\n",
    "engine, session = get_db(db_name, credentials=None)"
   ]
  },
  {
   "cell_type": "code",
   "execution_count": 2,
   "id": "63814f71",
   "metadata": {},
   "outputs": [
    {
     "name": "stdout",
     "output_type": "stream",
     "text": [
      "['3S14', '3S33', '2C12', '3N22', '2N13', '1N23', '2S11', '3S5', '5S21', '7C15', '1N3', '3S47', '2S48', '9N29', 'GML', '2S7', '1S2', '2N14', '3S38', '5N15', '5N19', '6N17', '2N4', '9S51', '1S1', '6S34', '9C17', '1S8', '5S43', '2S16', '8C18', '1S17', 'TLS-FL2A', '8N38', '2N12', '5S29', '9C16', '8N25', '5N11', '2N51', '8C11', '6N18', '5C21', '1N6', '2S3', 'TLS-FL3A', '5N10', '5N10']\n",
      "[datetime.date(2020, 2, 1), datetime.date(2020, 2, 4), datetime.date(2020, 2, 12), datetime.date(2020, 1, 28), datetime.date(2020, 2, 6), datetime.date(2020, 2, 11), datetime.date(2020, 2, 1), datetime.date(2020, 1, 29), datetime.date(2020, 2, 1), datetime.date(2020, 1, 30), datetime.date(2020, 2, 11), datetime.date(2020, 1, 29), datetime.date(2020, 1, 29), datetime.date(2020, 1, 30), datetime.date(2020, 2, 2), datetime.date(2020, 2, 8), datetime.date(2020, 2, 8), datetime.date(2020, 2, 11), datetime.date(2020, 2, 4), datetime.date(2020, 2, 6), datetime.date(2020, 1, 28), datetime.date(2020, 2, 10), datetime.date(2020, 1, 28), datetime.date(2020, 1, 29), datetime.date(2020, 1, 29), datetime.date(2020, 2, 4), datetime.date(2020, 1, 30), datetime.date(2020, 2, 1), datetime.date(2020, 1, 29), datetime.date(2020, 2, 8), datetime.date(2020, 2, 5), datetime.date(2020, 2, 8), datetime.date(2020, 2, 11), datetime.date(2020, 1, 30), datetime.date(2020, 1, 31), datetime.date(2020, 2, 4), datetime.date(2020, 2, 5), datetime.date(2020, 1, 28), datetime.date(2020, 2, 10), datetime.date(2020, 2, 11), datetime.date(2020, 2, 5), datetime.date(2020, 1, 28), datetime.date(2020, 1, 30), datetime.date(2020, 1, 28), datetime.date(2020, 1, 29), datetime.date(2020, 2, 10), datetime.date(2020, 1, 28), datetime.date(2020, 2, 10)]\n"
     ]
    }
   ],
   "source": [
    "# Grab the unique site ids and dates where SMP was used\n",
    "qry = session.query(LayerData.site_id, LayerData.date).filter(LayerData.type=='force').distinct()\n",
    "results = qry.all()\n",
    "\n",
    "# Clean the site ids up and make data into a list \n",
    "smp_sites = [r[0].split('_')[0].replace('COGM','') for r in results]\n",
    "smp_dates = [r[1] for r in results]\n",
    "\n",
    "print(smp_sites)\n",
    "print(smp_dates)"
   ]
  },
  {
   "cell_type": "code",
   "execution_count": 3,
   "id": "44c7dab5",
   "metadata": {},
   "outputs": [
    {
     "data": {
      "text/plain": [
       "<AxesSubplot:>"
      ]
     },
     "execution_count": 3,
     "metadata": {},
     "output_type": "execute_result"
    },
    {
     "data": {
      "image/png": "[encoded data removed]",
      "text/plain": [
       "<Figure size 432x288 with 1 Axes>"
      ]
     },
     "metadata": {
      "needs_background": "light"
     },
     "output_type": "display_data"
    }
   ],
   "source": [
    "# Grab the Site_id and dates and geom where the data is ssa \n",
    "qry = session.query(LayerData.site_id,  LayerData.date, LayerData.geom).filter(LayerData.type == 'specific_surface_area')\n",
    "\n",
    "# Also contains the same site_id as the smp\n",
    "qry = qry.filter(LayerData.site_id.in_(smp_sites))\n",
    "\n",
    "# Also has the same dates as the smp\n",
    "qry = qry.filter(LayerData.date.in_(smp_dates))\n",
    "\n",
    "# Grab only the unique\n",
    "qry = qry.distinct()\n",
    "\n",
    "# Build a dataframe\n",
    "df = query_to_geopandas(qry, engine)\n",
    "df.plot()"
   ]
  },
  {
   "cell_type": "code",
   "execution_count": 4,
   "id": "7b341364",
   "metadata": {},
   "outputs": [],
   "source": [
    "session.close()"
   ]
  }
 ],
 "metadata": {
  "kernelspec": {
   "display_name": "Python 3",
   "language": "python",
   "name": "python3"
  },
  "language_info": {
   "codemirror_mode": {
    "name": "ipython",
    "version": 3
   },
   "file_extension": ".py",
   "mimetype": "text/x-python",
   "name": "python",
   "nbconvert_exporter": "python",
   "pygments_lexer": "ipython3",
   "version": "3.8.8"
  }
 },
 "nbformat": 4,
 "nbformat_minor": 5
}
